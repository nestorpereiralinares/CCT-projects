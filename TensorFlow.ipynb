{
  "nbformat": 4,
  "nbformat_minor": 0,
  "metadata": {
    "colab": {
      "name": "TensorFlow.ipynb",
      "provenance": [],
      "collapsed_sections": [],
      "authorship_tag": "ABX9TyOept96mSucdwRrR9WLt3nP",
      "include_colab_link": true
    },
    "kernelspec": {
      "name": "python3",
      "display_name": "Python 3"
    },
    "language_info": {
      "name": "python"
    }
  },
  "cells": [
    {
      "cell_type": "markdown",
      "metadata": {
        "id": "view-in-github",
        "colab_type": "text"
      },
      "source": [
        "<a href=\"https://colab.research.google.com/github/nestorpereiralinares/Machine-Learning-Projects/blob/master/TensorFlow.ipynb\" target=\"_parent\"><img src=\"https://colab.research.google.com/assets/colab-badge.svg\" alt=\"Open In Colab\"/></a>"
      ]
    },
    {
      "cell_type": "code",
      "metadata": {
        "colab": {
          "base_uri": "https://localhost:8080/"
        },
        "id": "xMPYOrn9vyhI",
        "outputId": "c4e70100-e725-4217-a466-a9dbc7c4ee4f"
      },
      "source": [
        "# open-source library for high performance numerical computation developed by the Google Brain team in Google. \n",
        "# As the name suggests, Tensorflow is a framework that involves defining and running computations involving tensors.\n",
        "# It can train and run deep neural networks that can be used to develop several AI applications.\n",
        "\n",
        "# using TensorFlow for multiplying two arrays\n",
        "\n",
        "# import `tensorflow` \n",
        "import tensorflow as tf # TF 2\n",
        "\n",
        "msg = tf.constant('Hello, TensorFlow!')\n",
        "tf.print(msg)"
      ],
      "execution_count": 21,
      "outputs": [
        {
          "output_type": "execute_result",
          "data": {
            "text/plain": [
              "<tf.Operation 'PrintV2_1' type=PrintV2>"
            ]
          },
          "metadata": {
            "tags": []
          },
          "execution_count": 21
        }
      ]
    },
    {
      "cell_type": "code",
      "metadata": {
        "colab": {
          "base_uri": "https://localhost:8080/"
        },
        "id": "NM9mthegziPh",
        "outputId": "69110546-4512-4a3b-9846-ffd9b2c23557"
      },
      "source": [
        "# using TensorFlow for multiplying two arrays\n",
        "\n",
        "import tensorflow.compat.v1 as tf # TF 1\n",
        "tf.disable_v2_behavior()\n",
        "  \n",
        "# Initialize two constants\n",
        "x1 = tf.constant([1, 2, 3, 4])\n",
        "x2 = tf.constant([5, 6, 7, 8])\n",
        "\n",
        "print(x1, x2)"
      ],
      "execution_count": 22,
      "outputs": [
        {
          "output_type": "stream",
          "text": [
            "Tensor(\"Const_6:0\", shape=(4,), dtype=int32) Tensor(\"Const_7:0\", shape=(4,), dtype=int32)\n"
          ],
          "name": "stdout"
        }
      ]
    },
    {
      "cell_type": "code",
      "metadata": {
        "id": "U583vCDfwRhM"
      },
      "source": [
        "# Multiply\n",
        "result = tf.multiply(x1, x2)"
      ],
      "execution_count": 12,
      "outputs": []
    },
    {
      "cell_type": "code",
      "metadata": {
        "id": "iuc1tHckweBy"
      },
      "source": [
        "# Initialize the Session\n",
        "sess = tf.Session() # using  via tf.compat.v1.Session() "
      ],
      "execution_count": 14,
      "outputs": []
    },
    {
      "cell_type": "code",
      "metadata": {
        "colab": {
          "base_uri": "https://localhost:8080/"
        },
        "id": "UE4jqpZ4xh2u",
        "outputId": "3c9220c3-7011-4d5e-cee1-0592848a6dc1"
      },
      "source": [
        "# Print the result\n",
        "print(sess.run(result))\n"
      ],
      "execution_count": 16,
      "outputs": [
        {
          "output_type": "stream",
          "text": [
            "[ 5 12 21 32]\n"
          ],
          "name": "stdout"
        }
      ]
    },
    {
      "cell_type": "code",
      "metadata": {
        "colab": {
          "base_uri": "https://localhost:8080/"
        },
        "id": "gkptNx0Jxh-O",
        "outputId": "5f0bf282-fa88-45ca-8069-39f671fa0649"
      },
      "source": [
        "#\n",
        "# Example of TensorFlow library\n",
        "import tensorflow as tf  # TF 2\n",
        "\n",
        "import tensorflow.compat.v1 as tf # TF 1\n",
        "tf.disable_v2_behavior()\n",
        "\n",
        "# declare two symbolic floating-point scalars\n",
        "a = tf.placeholder(tf.float32)\n",
        "b = tf.placeholder(tf.float32)\n",
        "\n",
        "# create a simple symbolic expression using the add function \n",
        "add = tf.add(a, b)\n",
        "\n",
        "\n",
        "# bind 1.5 to 'a', 2.5 to 'b', and evaluate 'c'\n",
        "sess = tf.Session()\n",
        "binding = {a: 1.5, b: 2.5}\n",
        "c = sess.run(add, feed_dict=binding)\n",
        "print(c)"
      ],
      "execution_count": 18,
      "outputs": [
        {
          "output_type": "stream",
          "text": [
            "4.0\n"
          ],
          "name": "stdout"
        }
      ]
    }
  ]
}