{
 "cells": [
  {
   "cell_type": "markdown",
   "id": "50718908",
   "metadata": {},
   "source": [
    "# Tutorial 6 \n",
    "# Artificial Neural Network"
   ]
  },
  {
   "cell_type": "markdown",
   "id": "b409e43a",
   "metadata": {},
   "source": [
    "## Preprocess data for use in a neural network."
   ]
  },
  {
   "cell_type": "code",
   "execution_count": null,
   "id": "9f1cf161",
   "metadata": {},
   "outputs": [],
   "source": [
    "#!pip install tensorflow"
   ]
  },
  {
   "cell_type": "code",
   "execution_count": null,
   "id": "68d062e5",
   "metadata": {},
   "outputs": [],
   "source": [
    "#!pip install keras"
   ]
  },
  {
   "cell_type": "code",
   "execution_count": null,
   "id": "e538add0",
   "metadata": {},
   "outputs": [],
   "source": [
    "import sys\n",
    "\n",
    "import tensorflow.keras\n",
    "import pandas as pd\n",
    "import sklearn as sk\n",
    "import tensorflow as tf\n",
    "\n",
    "print(f\"Tensor Flow Version: {tf.__version__}\")\n",
    "print(f\"Keras Version: {tensorflow.keras.__version__}\")\n",
    "print()\n",
    "print(f\"Python {sys.version}\")\n",
    "print(f\"Pandas {pd.__version__}\")\n",
    "print(f\"Scikit-Learn {sk.__version__}\")\n",
    "gpu = len(tf.config.list_physical_devices('GPU'))>0\n",
    "print(\"GPU is\", \"available\" if gpu else \"NOT AVAILABLE\")"
   ]
  },
  {
   "cell_type": "code",
   "execution_count": 28,
   "id": "ca84d793",
   "metadata": {},
   "outputs": [],
   "source": [
    "# Fixing a random seed ensures reproducible results\n",
    "import numpy as np\n",
    "import matplotlib.pyplot as plt\n",
    "import random\n",
    "import tensorflow\n",
    "tensorflow.random.set_seed(9)\n",
    "np.random.seed(1)\n",
    "random.seed(1)"
   ]
  },
  {
   "cell_type": "code",
   "execution_count": null,
   "id": "05e459b8",
   "metadata": {},
   "outputs": [],
   "source": [
    "#Load library\n",
    "from sklearn import preprocessing\n",
    "import  numpy  as  np\n",
    "\n",
    "import warnings\n",
    "warnings.filterwarnings('ignore') # We can suppress the warnings\n",
    "\n",
    "#Create features\n",
    "features = np.array([[-100.1, 3240.1],\n",
    "                     [-200.2, -234.1],\n",
    "                     [5000.5, 150.1],\n",
    "                     [6000.6, -125.1],\n",
    "                     [9000.9, -673.1]])\n",
    "features"
   ]
  },
  {
   "cell_type": "code",
   "execution_count": null,
   "id": "83adf4cc",
   "metadata": {},
   "outputs": [],
   "source": [
    "#Create a standardizer\n",
    "scaler = preprocessing.StandardScaler()\n",
    "\n",
    "#Convert features\n",
    "features_standardized = scaler.fit_transform(features)\n",
    "\n",
    "#Display features\n",
    "features_standardized"
   ]
  },
  {
   "cell_type": "markdown",
   "id": "4fe2e65b",
   "metadata": {},
   "source": [
    "## Designing a Neural Network\n",
    "* We will create a two-layer neural network (when counting layers we don’t include the input layer because it does not have any parameters to learn) using Keras’ sequential model. \n",
    "* Each layer is “dense” (also called fully connected), meaning that all the units in the previous layer are connected to all the neurals in the next layer. \n",
    "* In the first hidden layer we set units=16, meaning that layer contains 16 units with ReLU activation functions: activation='relu'. \n",
    "* In Keras, the first hidden layer of any network has to include an input_shape parameter, which is the shape of feature data. For example, (10,) tells the first layer to expect each observation to have 10 feature values. \n",
    "* In second layer is the same as the first, without the need for the input_shape parameter. This network is designed for binary classification so the output layer contains only one unit with a sigmoid activation function, which constrains the output to between 0 and 1 (representing the probability an observation is class 1).\n",
    "\n",
    "* Finally, before we can train our model, we need to tell Keras how we want our network to learn. We do this using the compile method, with our optimization algorithm (RMSProp), loss function (binary_crossentropy), and one or more performance metrics."
   ]
  },
  {
   "cell_type": "code",
   "execution_count": null,
   "id": "09b70df4",
   "metadata": {},
   "outputs": [],
   "source": [
    "##\n",
    "## Load Data.\n",
    "## Define Keras Model.\n",
    "## Compile Keras Model.\n",
    "## Fit Keras Model.\n",
    "## Evaluate Keras Model.\n",
    "## Tie It All Together.\n",
    "## Make Predictions"
   ]
  },
  {
   "cell_type": "code",
   "execution_count": null,
   "id": "293fb993",
   "metadata": {},
   "outputs": [],
   "source": [
    "#Load library\n",
    "from keras import models\n",
    "from keras import layers\n",
    "\n",
    "# Start creating neural network\n",
    "network = models.Sequential()\n",
    "\n",
    "# Added fully connected layer using ReLU as activation function\n",
    "network.add(layers.Dense(units = 16, activation = \"relu\", input_shape=(10,)))\n",
    "\n",
    "# Added fully connected layer using ReLU as activation function\n",
    "network.add(layers.Dense(units = 16, activation = \"relu\"))\n",
    "\n",
    "# Added fully connected layer that uses sigmoid function as activation function\n",
    "network.add(layers.Dense(units = 1, activation = \"sigmoid\"))\n",
    "\n",
    "#Compile neural network\n",
    "network . compile ( loss = \"binary_crossentropy\" , # cross entropy\n",
    "                optimizer = \"rmsprop\" ,   # root mean square propagation method\n",
    "                metrics = [ \"accuracy\" ]) # performance indicators は accuracy\n",
    "\n",
    "print(network.summary())"
   ]
  },
  {
   "cell_type": "markdown",
   "id": "db72e7ec",
   "metadata": {},
   "source": [
    "* For each layer in the hidden and output layers we must define the number of units to include in the layer and the activation function. Overall, the more units we have in a layer, the more our network is able to learn complex patterns. However, more units might make our network overfit the training data in a way detrimental to the performance on the test data.\n",
    "\n",
    "For hidden layers, a popular activation function is the rectified linear unit (ReLU):\n",
    "\n",
    "f ( z ) = max ( 0 , z )\n",
    "\n",
    "where z is the sum of the weighted inputs and bias. As we can see, if z is greater than 0, the activation function returns z; otherwise, the function returns 0. This simple activation function has a number of desirable properties (a discussion of which is beyond the scope of this book) and this has made it a popular choice in neural networks. We should be aware, however, that many dozens of activation functions exist.\n",
    "\n",
    "* Second, we need to define the number of hidden layers to use in the network. More layers allow the network to learn more complex relationships, but with a computational cost.\n",
    "\n",
    "* Third, we have to define the structure of the activation function (if any) of the output layer. The nature of the output function is often determined by the goal of the network. Here are some common output layer patterns:\n",
    "\n",
    "Binary classification: One unit with a sigmoid activation function.\n",
    "\n",
    "Multiclass classification: k units (where k is the number of target classes) and a softmax activation function.\n",
    "\n",
    "Regression: One unit with no activation function.\n",
    "\n",
    "* Fourth, we need to define a loss function (the function that measures how well a predicted value matches the true value); this is again often determined by the problem type:\n",
    "\n",
    "Binary classification: Binary cross-entropy.\n",
    "Multiclass classification: Categorical cross-entropy.\n",
    "Regression: Mean square error.\n",
    "\n",
    "* Fifth, we have to define an optimizer, which intuitively can be thought of as our strategy “walking around” the loss function to find the parameter values that produce the lowest error. Common choices for optimizers are stochastic gradient descent, stochastic gradient descent with momentum, root mean square propagation, and adaptive moment estimation (more information on these optimizers in “See Also”).\n",
    "\n",
    "* Sixth, we can select one or more metrics to use to evaluate the performance, such as accuracy.\n",
    "\n",
    "Keras offers two ways for creating neural networks. Keras’ sequential model creates neural networks by stacking together layers. An alternative method for creating neural networks is called the functional API, but that is more for researchers rather than practitioners."
   ]
  },
  {
   "cell_type": "markdown",
   "id": "eb01fd7c",
   "metadata": {},
   "source": [
    "## Training a Binary Classifier"
   ]
  },
  {
   "cell_type": "code",
   "execution_count": null,
   "id": "8c618035",
   "metadata": {},
   "outputs": [],
   "source": [
    "# Load library\n",
    "import  numpy  as  np\n",
    "from keras.datasets import imdb\n",
    "from keras.preprocessing.text import Tokenizer\n",
    "from keras import models\n",
    "from keras import layers\n",
    "\n",
    "np.random.seed(12345)\n",
    "\n",
    "# Specify the number of features you want to use\n",
    "number_of_features = 1000\n",
    "\n",
    "# Load movie criticism data and target vectors\n",
    "# (data_train, target_train), (data_test, target_test) = imdb.load_data(num_words = number_of_features)\n",
    "(X_train, y_train), (X_test, y_test) = imdb.load_data(num_words = number_of_features)\n",
    "# One-hot encode movie criticism data and convert it to a feature matrix\n",
    "tokenizer = Tokenizer(num_words = number_of_features)\n",
    "X_train = tokenizer.sequences_to_matrix(X_train, mode = \"binary\")\n",
    "X_test = tokenizer.sequences_to_matrix(X_test, mode = \"binary\")\n",
    "\n",
    "# Start creating neural network\n",
    "network = models.Sequential()\n",
    "\n",
    "# Added fully connected layer using ReLU as activation function\n",
    "network.add(layers.Dense(units = 16, activation = \"relu\", input_shape = (number_of_features,)))\n",
    "\n",
    "# Added fully connected layer using ReLU as activation function\n",
    "network.add(layers.Dense(units = 16, activation = \"relu\"))\n",
    "\n",
    "# Added fully connected layer that uses sigmoid function as activation function\n",
    "network.add(layers.Dense(units = 1, activation = \"sigmoid\")) #  sigmoid activation function\n",
    "\n",
    "#Compile neural network\n",
    "network.compile ( loss = \"binary_crossentropy\" , # cross entropy Binary classification: Binary cross-entropy.\n",
    "                  optimizer = \"rmsprop\" ,        # root mean square propagation method\n",
    "                  metrics = [ \"accuracy\" ])      # performance indicators は accuracy\n",
    "\n",
    "print(network.summary())"
   ]
  },
  {
   "cell_type": "code",
   "execution_count": null,
   "id": "3f083506",
   "metadata": {},
   "outputs": [],
   "source": [
    "#Training neural networks\n",
    "History  =  network.fit ( X_train , # feature value\n",
    "                          y_train , # target vector\n",
    "                          epochs = 10 , # number of epochs\n",
    "                          verbose = 1 , # Display status for each epoch\n",
    "                          batch_size = 128 , # Number of observations per batch (100)\n",
    "                          validation_data = (X_test , y_test )) #test data\n",
    "\n",
    "##########\n",
    "\n",
    "\n",
    "\n",
    "# Display the shape of the feature matrix\n",
    "X_train.shape"
   ]
  },
  {
   "cell_type": "code",
   "execution_count": null,
   "id": "2a2439d1",
   "metadata": {},
   "outputs": [],
   "source": [
    "\n",
    "# Batch Gradient Descent. Batch Size = Size of Training Set\n",
    "# Stochastic Gradient Descent. Batch Size = 1\n",
    "# Mini-Batch Gradient Descent. 1 < Batch Size < Size of Training Set\n",
    "\n",
    "# In the case of mini-batch gradient descent, \n",
    "# popular batch sizes include 32, 64, and 128 samples. \n",
    "\n",
    "# Epoch: One pass through all of the rows in the training dataset.\n",
    "# Batch: One or more samples considered by the model within an epoch before weights are updated.\n",
    "# One epoch is comprised of one or more batches"
   ]
  },
  {
   "cell_type": "markdown",
   "id": "2ee9e25a",
   "metadata": {},
   "source": [
    "In this above example, we train that neural network using real data. We use 50,000 movie reviews (25,000 as training data, 25,000 held out for testing), categorized as positive or negative. We convert the text of the reviews into 1,000 binary features indicating the presence of one of the 1,000 most frequent words. Put more simply, our neural networks will use 25,000 observations, each with 1,000 features, to predict if a movie review is positive or negative.\n",
    "\n",
    "The epochs parameter defines how many epochs to use when training the data. verbose determines how much information is outputted during the training process, with 0 being no output, 1 outputting a progress bar, and 2 one log line per epoch. batch_size sets the number of observations to propagate through the network before updating the parameters.\n",
    "\n",
    "Finally, we held out a test set of data to use to evaluate the model. These test features and test target vector can be arguments of validation_data, which will use them for evaluation. Alternatively, we could have used validation_split to define what fraction of the training data we want to hold out for evaluation."
   ]
  },
  {
   "cell_type": "markdown",
   "id": "84fbc593",
   "metadata": {},
   "source": [
    "# Testing accuracy\n",
    "#### We can evaluate our model on the training set and testing set using the evaluate() function:"
   ]
  },
  {
   "cell_type": "code",
   "execution_count": null,
   "id": "f9539048",
   "metadata": {},
   "outputs": [],
   "source": [
    "scores = network.evaluate(X_train, y_train)\n",
    "print(\"Training Accuracy: %.2f%%\\n\" % (scores[1] * 100))\n",
    "\n",
    "scores = network.evaluate(X_test, y_test)\n",
    "print(\"Testing Accuracy: %.2f%%\\n\" % (scores[1] * 100))"
   ]
  },
  {
   "cell_type": "markdown",
   "id": "031f0f5d",
   "metadata": {},
   "source": [
    "## Training a Multiclass Classifier"
   ]
  },
  {
   "cell_type": "code",
   "execution_count": null,
   "id": "a977e746",
   "metadata": {},
   "outputs": [],
   "source": [
    "# Load libraries\n",
    "import numpy as np\n",
    "from keras.datasets import reuters\n",
    "from keras.utils.np_utils import to_categorical\n",
    "from keras.preprocessing.text import Tokenizer\n",
    "from keras import models\n",
    "from keras import layers\n",
    "\n",
    "# Set random seed\n",
    "np.random.seed(0)\n",
    "\n",
    "# Set the number of features we want\n",
    "number_of_features = 5000\n",
    "\n",
    "# data_train = X_train\n",
    "# target_vector_train = y_vector_train\n",
    "# data_test = X_test\n",
    "# target_vector_test = X_test\n",
    "\n",
    "# Load feature and target data\n",
    "data = reuters.load_data(num_words = number_of_features)\n",
    "\n",
    "data"
   ]
  },
  {
   "cell_type": "code",
   "execution_count": null,
   "id": "25ff3daa",
   "metadata": {},
   "outputs": [],
   "source": [
    "# Load libraries\n",
    "import numpy as np\n",
    "from keras.datasets import reuters\n",
    "from keras.utils.np_utils import to_categorical\n",
    "from keras.preprocessing.text import Tokenizer\n",
    "from keras import models\n",
    "from keras import layers\n",
    "\n",
    "# Set random seed\n",
    "np.random.seed(0)\n",
    "\n",
    "# Set the number of features we want\n",
    "number_of_features = 5000\n",
    "\n",
    "# data_train = X_train\n",
    "# target_vector_train = y_vector_train\n",
    "# data_test = X_test\n",
    "# target_vector_test = X_test\n",
    "\n",
    "# Load feature and target data\n",
    "data = reuters.load_data(num_words = number_of_features)\n",
    "\n",
    "(X_train, y_vector_train), (X_test, y_vector_test) = data\n",
    "\n",
    "# Convert feature data to a one-hot encoded feature matrix\n",
    "tokenizer = Tokenizer(num_words = number_of_features)\n",
    "features_train = tokenizer.sequences_to_matrix(X_train, mode = \"binary\")\n",
    "features_test = tokenizer.sequences_to_matrix(X_test, mode = \"binary\")\n",
    "\n",
    "# One-hot encode target vector to create a target matrix\n",
    "target_train = to_categorical(y_vector_train)\n",
    "target_test = to_categorical(y_vector_test)\n"
   ]
  },
  {
   "cell_type": "code",
   "execution_count": null,
   "id": "8f70c9af",
   "metadata": {},
   "outputs": [],
   "source": [
    "\n",
    "\n",
    "# Start neural network\n",
    "network = models.Sequential()\n",
    "\n",
    "# input shape is 8 because 8 features\n",
    "# activation = rectified linear unit  ReLU=max (0,z) sum weighted\n",
    "# fully connected by using 12 nodes  hiden layers\n",
    "\n",
    "#  https://keras.io/api/layers/core_layers/\n",
    "# -------------- ReLU ------\n",
    "# Binary classification:\n",
    "# One unit with a sigmoid activation function.\n",
    "# Multiclass classification:\n",
    "# k units (where k is the number of target classes) and a softmax activation func‐ tion.\n",
    "# Regression:\n",
    "# One unit with no activation function.\n",
    "# ----------------\n",
    "\n",
    "# ------- loss function -------\n",
    "# Binary classification:      Binary cross-entropy.\n",
    "# Multiclass classification:  Categorical cross-entropy.\n",
    "# Regression:                 Mean square error.\n",
    "# ------------------\n",
    "\n",
    "# Add fully connected layer with a ReLU activation function\n",
    "network.add(layers.Dense(units = 100,\n",
    "                         activation = \"relu\",\n",
    "                         input_shape = (number_of_features,)))\n",
    "\n",
    "# Add fully connected layer with a ReLU activation function\n",
    "network.add(layers.Dense(units = 100, activation = \"relu\"))\n",
    "\n",
    "# Add fully connected layer with a softmax activation function\n",
    "network.add(layers.Dense(units = 46, activation = \"softmax\"))  \n",
    "# k units (where k is the number of target classes) and a softmax activation function.\n",
    "\n",
    "# Compile neural network\n",
    "network.compile(loss = \"categorical_crossentropy\", # Multiclass classification: Categorical cross-entropy.\n",
    "                optimizer = \"rmsprop\", # Root Mean Square Propagation\n",
    "                metrics = [\"accuracy\"]) # Accuracy performance metric\n",
    "\n",
    "print(network.summary())"
   ]
  },
  {
   "cell_type": "code",
   "execution_count": null,
   "id": "ceb6842d",
   "metadata": {},
   "outputs": [],
   "source": [
    "# Train neural network\n",
    "history = network.fit(features_train, # Features\n",
    "                      target_train, # Target\n",
    "                      epochs = 3, # Three epochs\n",
    "                      verbose = 1, # No output\n",
    "                      batch_size = 100, # Number of observations per batch\n",
    "                      validation_data = (features_test, target_test)) # Test data"
   ]
  },
  {
   "cell_type": "code",
   "execution_count": null,
   "id": "f41b8567",
   "metadata": {},
   "outputs": [],
   "source": [
    "scores = network.evaluate(features_train, target_train)\n",
    "print(\"Training Accuracy: %.2f%%\\n\" % (scores[1] * 100))\n",
    "\n",
    "scores = network.evaluate(features_test, target_test)\n",
    "print(\"Testing Accuracy: %.2f%%\\n\" % (scores[1] * 100))"
   ]
  },
  {
   "cell_type": "markdown",
   "id": "96dc62a8",
   "metadata": {},
   "source": [
    "We created a similar neural network to the binary classifier, but with some notable changes. First, our data is 11,228 Reuters newswires. Each newswire is categorized into 46 topics. We prepared our feature data by converting the newswires into 5,000 binary features (denoting the presence of a certain word in the newswires). We prepared the target data by one-hot encoding it so that we obtain a target matrix denoting which of the 46 classes an observation belongs to"
   ]
  },
  {
   "cell_type": "code",
   "execution_count": null,
   "id": "7f4fbd6e",
   "metadata": {},
   "outputs": [],
   "source": [
    "# View target matrix\n",
    "target_train"
   ]
  },
  {
   "cell_type": "markdown",
   "id": "bc47ea69",
   "metadata": {},
   "source": [
    "Second, we increased the number of units in each of the hidden layers to help the neural network represent the more complex relationship between the 46 classes.\n",
    "\n",
    "Third, since this is a multiclass classification problem, we used an output layer with 46 units (one per class) containing a softmax activation function. The softmax activation function will return an array of 46 values summing to 1. These 46 values represent an observation’s probability of being a member of each of the 46 classes.\n",
    "\n",
    "Fourth, we used a loss function suited to multiclass classification, the categorical cross-entropy loss function, categorical_crossentropy."
   ]
  },
  {
   "cell_type": "markdown",
   "id": "dd57a2a0",
   "metadata": {},
   "source": [
    "## Training a Regressor"
   ]
  },
  {
   "cell_type": "code",
   "execution_count": 43,
   "id": "a3e1d766",
   "metadata": {},
   "outputs": [
    {
     "name": "stdout",
     "output_type": "stream",
     "text": [
      "(10000, 3) (10000,) 3\n"
     ]
    }
   ],
   "source": [
    "# Load libraries\n",
    "import numpy as np\n",
    "from keras.preprocessing.text import Tokenizer\n",
    "from keras import models\n",
    "from keras import layers\n",
    "from sklearn.datasets import make_regression\n",
    "from sklearn.model_selection import train_test_split\n",
    "from sklearn import preprocessing\n",
    "\n",
    "# Set random seed\n",
    "np.random.seed(0)\n",
    "\n",
    "# Generate features matrix and target vector\n",
    "features, target = make_regression(n_samples = 10000,\n",
    "                                   n_features = 3,\n",
    "                                   n_informative = 3,\n",
    "                                   n_targets = 1,\n",
    "                                   noise = 0.0,\n",
    "                                   random_state = 0)\n",
    "\n",
    "# Divide our data into training and test sets\n",
    "features_train, features_test, target_train, target_test = train_test_split(\n",
    "features, target, test_size=0.33, random_state=61)\n",
    "print(features.shape, target.shape, features_train.shape[1])"
   ]
  },
  {
   "cell_type": "code",
   "execution_count": 44,
   "id": "bffb0919",
   "metadata": {},
   "outputs": [
    {
     "name": "stdout",
     "output_type": "stream",
     "text": [
      "Model: \"sequential_7\"\n",
      "_________________________________________________________________\n",
      "Layer (type)                 Output Shape              Param #   \n",
      "=================================================================\n",
      "dense_21 (Dense)             (None, 128)               512       \n",
      "_________________________________________________________________\n",
      "dense_22 (Dense)             (None, 128)               16512     \n",
      "_________________________________________________________________\n",
      "dense_23 (Dense)             (None, 1)                 129       \n",
      "=================================================================\n",
      "Total params: 17,153\n",
      "Trainable params: 17,153\n",
      "Non-trainable params: 0\n",
      "_________________________________________________________________\n",
      "None\n"
     ]
    }
   ],
   "source": [
    "\n",
    "# Start neural network\n",
    "network = models.Sequential()\n",
    "\n",
    "# input shape is 3 features\n",
    "# activation = rectified linear unit  ReLU=max (0,z) sum weighted\n",
    "# fully connected by using 12 nodes  hiden layers\n",
    "\n",
    "#  https://keras.io/api/layers/core_layers/\n",
    "# -------------- ReLU ------\n",
    "# Binary classification:\n",
    "# One unit with a sigmoid activation function.\n",
    "# Multiclass classification:\n",
    "# k units (where k is the number of target classes) and a softmax activation func‐ tion.\n",
    "# Regression:\n",
    "# One unit with no activation function.\n",
    "# ----------------\n",
    "\n",
    "# ------- loss function -------\n",
    "# Binary classification:      Binary cross-entropy.\n",
    "# Multiclass classification:  Categorical cross-entropy.\n",
    "# Regression:                 Mean square error.\n",
    "# ------------------\n",
    "\n",
    "\n",
    "# Add fully connected layer with a ReLU activation function\n",
    "network.add(layers.Dense(units=128,  # 32 \n",
    "                         activation=\"relu\",\n",
    "                         input_shape=(features_train.shape[1],))) # flatten features\n",
    "\n",
    "# Add fully connected layer with a ReLU activation function\n",
    "network.add(layers.Dense(units=128, activation=\"relu\"))\n",
    "\n",
    "# Add fully connected layer with no activation function\n",
    "network.add(layers.Dense(units=1))  # Regression: One unit with no activation function.\n",
    "\n",
    "\n",
    "# Compile neural network\n",
    "network.compile(loss=\"mse\", # Mean squared error for regression\n",
    "                optimizer=\"RMSprop\", # Optimization algorithm\n",
    "                metrics=[\"mse\"]) # Mean squared error\n",
    "\n",
    "print(network.summary())"
   ]
  },
  {
   "cell_type": "code",
   "execution_count": 45,
   "id": "cd954831",
   "metadata": {},
   "outputs": [
    {
     "name": "stderr",
     "output_type": "stream",
     "text": [
      "2022-11-14 19:52:17.363878: I tensorflow/core/grappler/optimizers/custom_graph_optimizer_registry.cc:112] Plugin optimizer for device_type GPU is enabled.\n",
      "2022-11-14 19:52:17.711643: I tensorflow/core/grappler/optimizers/custom_graph_optimizer_registry.cc:112] Plugin optimizer for device_type GPU is enabled.\n"
     ]
    }
   ],
   "source": [
    "# Train neural network\n",
    "history = network.fit(features_train, # Features\n",
    "                      target_train, # Target vector\n",
    "                      epochs=10, # Number of epochs\n",
    "                      verbose=0, # No output\n",
    "                      batch_size=128, # Number of observations per batch (100)\n",
    "                      validation_data=(features_test, target_test)) # Test data\n",
    "\n"
   ]
  },
  {
   "cell_type": "code",
   "execution_count": 46,
   "id": "9bfee3de",
   "metadata": {},
   "outputs": [
    {
     "name": "stdout",
     "output_type": "stream",
     "text": [
      "[ 237.18928629 -105.62373505 -107.28840641 ...   38.45133325 -124.47858138\n",
      " -182.72590486]\n",
      "[[ 239.81085 ]\n",
      " [-106.59411 ]\n",
      " [-108.757835]\n",
      " ...\n",
      " [  40.359066]\n",
      " [-125.60709 ]\n",
      " [-182.85776 ]]\n",
      "(6700, 3) (3300, 3) (6700,) (3300,)\n"
     ]
    },
    {
     "name": "stderr",
     "output_type": "stream",
     "text": [
      "2022-11-14 19:52:37.398088: I tensorflow/core/grappler/optimizers/custom_graph_optimizer_registry.cc:112] Plugin optimizer for device_type GPU is enabled.\n"
     ]
    }
   ],
   "source": [
    "# Predict classes of test set\n",
    "predicted_target = network.predict(features_test)\n",
    "\n",
    "print(target_test)\n",
    "print(predicted_target)\n",
    "\n",
    "print(features_train.shape, features_test.shape, target_train.shape, target_test.shape)"
   ]
  },
  {
   "cell_type": "code",
   "execution_count": 47,
   "id": "c8edd3d3",
   "metadata": {},
   "outputs": [
    {
     "name": "stdout",
     "output_type": "stream",
     "text": [
      "210/210 [==============================] - 1s 3ms/step - loss: 3.6543 - mse: 3.6543\n"
     ]
    },
    {
     "data": {
      "text/plain": [
       "[3.6542694568634033, 3.6542694568634033]"
      ]
     },
     "execution_count": 47,
     "metadata": {},
     "output_type": "execute_result"
    }
   ],
   "source": [
    "scores = network.evaluate(features_train, target_train)\n",
    "scores"
   ]
  },
  {
   "cell_type": "markdown",
   "id": "c4e70e16",
   "metadata": {},
   "source": [
    "# Mean squared error (MSE) \n",
    " measures the amount of error in statistical models. \n",
    "It assesses the average squared difference between the observed and predicted values. \n",
    "When a model has no error, the MSE equals zero.\n",
    " \n",
    "Simply put, the lower the value the better and 0 means the model is perfect. \n"
   ]
  },
  {
   "cell_type": "code",
   "execution_count": 48,
   "id": "72af05c6",
   "metadata": {},
   "outputs": [
    {
     "name": "stdout",
     "output_type": "stream",
     "text": [
      "210/210 [==============================] - 1s 3ms/step - loss: 3.6543 - mse: 3.6543\n",
      "Training MSE: 3.65%\n",
      "\n",
      "104/104 [==============================] - 0s 3ms/step - loss: 3.8472 - mse: 3.8472\n",
      "Testing MSE: 3.85%\n",
      "\n"
     ]
    }
   ],
   "source": [
    "scores = network.evaluate(features_train, target_train)\n",
    "print(\"Training MSE: %.2f%%\\n\" % (scores[1]))\n",
    "\n",
    "scores = network.evaluate(features_test, target_test)\n",
    "print(\"Testing MSE: %.2f%%\\n\" % (scores[1]))\n",
    "\n"
   ]
  },
  {
   "cell_type": "code",
   "execution_count": 49,
   "id": "c9d05d2b",
   "metadata": {},
   "outputs": [
    {
     "data": {
      "image/png": "[encoded data removed]",
      "text/plain": [
       "<Figure size 432x288 with 1 Axes>"
      ]
     },
     "metadata": {
      "needs_background": "light"
     },
     "output_type": "display_data"
    }
   ],
   "source": [
    "# Get training and test loss histories\n",
    "training_loss = history.history[\"loss\"]\n",
    "test_loss = history.history[\"val_loss\"]\n",
    "\n",
    "# Create count of the number of epochs\n",
    "epoch_count = range(1, len(training_loss) + 1)\n",
    "\n",
    "# Visualize loss history\n",
    "plt.plot(epoch_count, training_loss, \"r--\")\n",
    "plt.plot(epoch_count, test_loss, \"b-\")\n",
    "plt.legend([\"Training Loss\", \"Test Loss\"])\n",
    "plt.xlabel(\"Epoch\")\n",
    "plt.ylabel(\"Loss\")\n",
    "plt.show();"
   ]
  },
  {
   "cell_type": "markdown",
   "id": "d4eb592b",
   "metadata": {},
   "source": [
    "It is completely possible to create a neural network to predict continuous values instead of class probabilities. In the case of our binary classifier, we used an output layer with a single unit and a sigmoid activation function to produce a probability that an observation was class 1. Importantly, the sigmoid activation function constrained the outputted value to between 0 and 1. If we remove that constraint by having no activation function, we allow the output to be a continuous value.\n",
    "\n",
    "Furthermore, because we are training a regression, we should use an appropriate loss function and evaluation metric, in our case the mean square error:\n",
    "\n",
    "MSE = 1 n ∑ i=1 n (y i ^-y i ) 2\n",
    "where n is the number of observations; yi is the true value of the target we are trying to predict, y, for observation i; and ŷi is the model’s predicted value for yi.\n",
    "\n",
    "Finally, because we are using simulated data using scikit-learn, make_regression, we didn’t have to standardize the features. It should be noted, however, that in almost all real-world cases standardization would be necessary."
   ]
  },
  {
   "cell_type": "markdown",
   "id": "fe8285bd",
   "metadata": {},
   "source": [
    "## Visualize Training History\n",
    "You want to find the “sweet spot” in a neural network’s loss and/or accuracy score."
   ]
  },
  {
   "cell_type": "code",
   "execution_count": null,
   "id": "9650ece2",
   "metadata": {},
   "outputs": [],
   "source": [
    "# Load libraries\n",
    "import numpy as np\n",
    "from keras.datasets import imdb\n",
    "from keras.preprocessing.text import Tokenizer\n",
    "from keras import models\n",
    "from keras import layers\n",
    "import matplotlib.pyplot as plt\n",
    "\n",
    "# Set random seed\n",
    "np.random.seed(0)\n",
    "\n",
    "# Set the number of features we want\n",
    "number_of_features = 10000\n",
    "\n",
    "# Load data and target vector from movie review data\n",
    "(data_train, target_train), (data_test, target_test) = imdb.load_data(num_words=number_of_features)\n",
    "\n",
    "# Convert movie review data to a one-hot encoded feature matrix\n",
    "tokenizer = Tokenizer(num_words = number_of_features)\n",
    "features_train = tokenizer.sequences_to_matrix(data_train, mode = \"binary\")\n",
    "features_test = tokenizer.sequences_to_matrix(data_test, mode = \"binary\")\n",
    "\n",
    "# Start neural network\n",
    "network = models.Sequential()\n",
    "\n",
    "# Add fully connected layer with a ReLU activation function\n",
    "network.add(layers.Dense(units=16,\n",
    "                         activation=\"relu\",\n",
    "                         input_shape=(number_of_features,)))\n",
    "\n",
    "# Add fully connected layer with a ReLU activation function\n",
    "network.add(layers.Dense(units=16, activation=\"relu\"))\n",
    "\n",
    "# Add fully connected layer with a sigmoid activation function\n",
    "network.add(layers.Dense(units=1, activation=\"sigmoid\"))\n",
    "\n",
    "# Compile neural network\n",
    "network.compile(loss=\"binary_crossentropy\", # Cross-entropy\n",
    "                optimizer=\"rmsprop\", # Root Mean Square Propagation\n",
    "                metrics=[\"accuracy\"]) # Accuracy performance metric\n",
    "\n",
    "# Train neural network\n",
    "history = network.fit(features_train, # Features\n",
    "                      target_train, # Target\n",
    "                      epochs=15, # Number of epochs\n",
    "                      verbose=0, # No output\n",
    "                      batch_size=1000, # Number of observations per batch\n",
    "                      validation_data=(features_test, target_test)) # Test data\n",
    "\n",
    "# Get training and test loss histories\n",
    "training_loss = history.history[\"loss\"]\n",
    "test_loss = history.history[\"val_loss\"]\n",
    "\n",
    "# Create count of the number of epochs\n",
    "epoch_count = range(1, len(training_loss) + 1)\n",
    "\n",
    "# Visualize loss history\n",
    "plt.plot(epoch_count, training_loss, \"r--\")\n",
    "plt.plot(epoch_count, test_loss, \"b-\")\n",
    "plt.legend([\"Training Loss\", \"Test Loss\"])\n",
    "plt.xlabel(\"Epoch\")\n",
    "plt.ylabel(\"Loss\")\n",
    "plt.show();"
   ]
  },
  {
   "cell_type": "markdown",
   "id": "d4baa2cb",
   "metadata": {},
   "source": [
    "Alternatively, we can use the same approach to visualize the training and test accuracy over each epoch"
   ]
  },
  {
   "cell_type": "code",
   "execution_count": null,
   "id": "b1e6d4c5",
   "metadata": {},
   "outputs": [],
   "source": [
    "# Get training and test accuracy histories\n",
    "training_accuracy = history.history[\"accuracy\"]\n",
    "test_accuracy = history.history[\"val_accuracy\"]\n",
    "plt.plot(epoch_count, training_accuracy, \"r--\")\n",
    "plt.plot(epoch_count, test_accuracy, \"b-\")\n",
    "\n",
    "# Visualize accuracy history\n",
    "plt.legend([\"Training Accuracy\", \"Test Accuracy\"])\n",
    "plt.xlabel(\"Epoch\")\n",
    "plt.ylabel(\"Accuracy Score\")\n",
    "plt.show();"
   ]
  },
  {
   "cell_type": "markdown",
   "id": "779e9fe2",
   "metadata": {},
   "source": [
    "When our neural network is new, it will have a poor performance. As the neural network learns on the training data, the model’s error on both the training and test set will tend to decrease. However, at a certain point the neural network starts “memorizing” the training data, and overfits. When this starts happening, the training error will decrease while the test error will start increasing. Therefore, in many cases there is a “sweet spot” where the test error (which is the error we mainly care about) is at its lowest point. This effect can be plainly seen in the solution where we visualize the training and test loss at each epoch. Note that the test error is lowest around epoch five, after which the training loss continues to decrease while the test loss starts increasing. At this point onward, the model is overfitting."
   ]
  },
  {
   "cell_type": "markdown",
   "id": "d3a7e539",
   "metadata": {},
   "source": [
    "## k-Fold Cross-Validating Neural Networks"
   ]
  },
  {
   "cell_type": "code",
   "execution_count": null,
   "id": "9a063ba9",
   "metadata": {},
   "outputs": [],
   "source": [
    "# Load libraries\n",
    "import numpy as np\n",
    "from keras import models\n",
    "from keras import layers\n",
    "from keras.wrappers.scikit_learn import KerasClassifier\n",
    "from sklearn.model_selection import cross_val_score\n",
    "from sklearn.datasets import make_classification\n",
    "\n",
    "# Set random seed\n",
    "np.random.seed(0)\n",
    "\n",
    "# Number of features\n",
    "number_of_features = 100\n",
    "\n",
    "# Generate features matrix and target vector\n",
    "features, target = make_classification(n_samples = 10000,\n",
    "                                       n_features = number_of_features,\n",
    "                                       n_informative = 3,\n",
    "                                       n_redundant = 0,\n",
    "                                       n_classes = 2,\n",
    "                                       weights = [.5, .5],\n",
    "                                       random_state = 0)\n",
    "\n",
    "# Create function returning a compiled network\n",
    "def create_network():\n",
    "\n",
    "    # Start neural network\n",
    "    network = models.Sequential()\n",
    "\n",
    "    # Add fully connected layer with a ReLU activation function\n",
    "    network.add(layers.Dense(units=16, activation=\"relu\", input_shape=(\n",
    "        number_of_features,)))\n",
    "\n",
    "    # Add fully connected layer with a ReLU activation function\n",
    "    network.add(layers.Dense(units=16, activation=\"relu\"))\n",
    "\n",
    "    # Add fully connected layer with a sigmoid activation function\n",
    "    network.add(layers.Dense(units=1, activation=\"sigmoid\"))\n",
    "\n",
    "    # Compile neural network\n",
    "    network.compile(loss=\"binary_crossentropy\", # Cross-entropy\n",
    "                    optimizer=\"rmsprop\", # Root Mean Square Propagation\n",
    "                    metrics=[\"accuracy\"]) # Accuracy performance metric\n",
    "\n",
    "    # Return compiled network\n",
    "    return network\n",
    "\n",
    "# Wrap Keras model so it can be used by scikit-learn\n",
    "neural_network = KerasClassifier(build_fn=create_network,\n",
    "                                 epochs=10,\n",
    "                                 batch_size=100,\n",
    "                                 verbose=0)\n",
    "\n",
    "# Evaluate neural network using three-fold cross-validation\n",
    "cross_val_score(neural_network, features, target, cv=3)"
   ]
  },
  {
   "cell_type": "markdown",
   "id": "4c6bcda7",
   "metadata": {},
   "source": [
    "Theoretically, there is no reason we cannot use cross-validation to evaluate neural networks. However, neural networks are often used on very large data and can take hours or even days to train. For this reason, if the training time is long, adding the computational expense of k-fold cross-validation is unadvisable. For example, a model normally taking one day to train would take 10 days to evaluate using 10-fold cross-validation. If we have large data, it is often appropriate to simply evaluate the neural network on some test set.\n",
    "\n",
    "If we have smaller data, k-fold cross-validation can be useful to maximize our ability to evaluate the neural network’s performance. This is possible in Keras because we can “wrap” any neural network such that it can use the evaluation features available in scikit-learn, including k-fold cross-validation. To accomplish this, we first have to create a function that returns a compiled neural network. Next we use KerasClassifier (if we have a classifier; if we have a regressor we can use KerasRegressor) to wrap the model so it can be used by scikit-learn. After this, we can use our neural network like any other scikit-learn learning algorithm (e.g., random forests, logistic regression). In our solution, we used cross_val_score to run a three-fold cross-validation on our neural network."
   ]
  },
  {
   "cell_type": "markdown",
   "id": "cfc0822b",
   "metadata": {},
   "source": [
    "## CASE StUDY"
   ]
  },
  {
   "cell_type": "code",
   "execution_count": null,
   "id": "b8c906d1",
   "metadata": {},
   "outputs": [],
   "source": [
    "import matplotlib\n",
    "matplotlib.use(\"TkAgg\")\n",
    "from utils import preprocess\n",
    "import pandas as pd\n",
    "import seaborn as sns\n",
    "from sklearn.model_selection import train_test_split\n",
    "from sklearn.metrics import confusion_matrix\n",
    "from sklearn.metrics import roc_curve\n",
    "from keras.models import Sequential\n",
    "from keras.layers import Dense\n",
    "import matplotlib.pyplot as plt\n",
    "import numpy as np\n",
    "np.random.seed(16)\n",
    "\n",
    "try:\n",
    "    df = pd.read_csv('diabetes.csv')\n",
    "except:\n",
    "    print(\"\"\"\n",
    "      Dataset not found in your computer.\n",
    "      Please follow the instructions in the link below to download the dataset:\n",
    "      https://raw.githubusercontent.com/PacktPublishing/Neural-Network-Projects-with-Python/master/chapter2/how_to_download_the_dataset.txt\n",
    "      \"\"\")\n",
    "    quit()"
   ]
  },
  {
   "cell_type": "markdown",
   "id": "8cec375c",
   "metadata": {},
   "source": [
    "# Visualization of diabetes data"
   ]
  },
  {
   "cell_type": "code",
   "execution_count": 1,
   "id": "9f204a64",
   "metadata": {},
   "outputs": [
    {
     "data": {
      "text/html": [
       "<div>\n",
       "<style scoped>\n",
       "    .dataframe tbody tr th:only-of-type {\n",
       "        vertical-align: middle;\n",
       "    }\n",
       "\n",
       "    .dataframe tbody tr th {\n",
       "        vertical-align: top;\n",
       "    }\n",
       "\n",
       "    .dataframe thead th {\n",
       "        text-align: right;\n",
       "    }\n",
       "</style>\n",
       "<table border=\"1\" class=\"dataframe\">\n",
       "  <thead>\n",
       "    <tr style=\"text-align: right;\">\n",
       "      <th></th>\n",
       "      <th>Pregnancies</th>\n",
       "      <th>Glucose</th>\n",
       "      <th>BloodPressure</th>\n",
       "      <th>SkinThickness</th>\n",
       "      <th>Insulin</th>\n",
       "      <th>BMI</th>\n",
       "      <th>DiabetesPedigreeFunction</th>\n",
       "      <th>Age</th>\n",
       "      <th>Outcome</th>\n",
       "    </tr>\n",
       "  </thead>\n",
       "  <tbody>\n",
       "    <tr>\n",
       "      <th>0</th>\n",
       "      <td>6</td>\n",
       "      <td>148</td>\n",
       "      <td>72</td>\n",
       "      <td>35</td>\n",
       "      <td>0</td>\n",
       "      <td>33.6</td>\n",
       "      <td>0.627</td>\n",
       "      <td>50</td>\n",
       "      <td>1</td>\n",
       "    </tr>\n",
       "    <tr>\n",
       "      <th>1</th>\n",
       "      <td>1</td>\n",
       "      <td>85</td>\n",
       "      <td>66</td>\n",
       "      <td>29</td>\n",
       "      <td>0</td>\n",
       "      <td>26.6</td>\n",
       "      <td>0.351</td>\n",
       "      <td>31</td>\n",
       "      <td>0</td>\n",
       "    </tr>\n",
       "    <tr>\n",
       "      <th>2</th>\n",
       "      <td>8</td>\n",
       "      <td>183</td>\n",
       "      <td>64</td>\n",
       "      <td>0</td>\n",
       "      <td>0</td>\n",
       "      <td>23.3</td>\n",
       "      <td>0.672</td>\n",
       "      <td>32</td>\n",
       "      <td>1</td>\n",
       "    </tr>\n",
       "    <tr>\n",
       "      <th>3</th>\n",
       "      <td>1</td>\n",
       "      <td>89</td>\n",
       "      <td>66</td>\n",
       "      <td>23</td>\n",
       "      <td>94</td>\n",
       "      <td>28.1</td>\n",
       "      <td>0.167</td>\n",
       "      <td>21</td>\n",
       "      <td>0</td>\n",
       "    </tr>\n",
       "    <tr>\n",
       "      <th>4</th>\n",
       "      <td>0</td>\n",
       "      <td>137</td>\n",
       "      <td>40</td>\n",
       "      <td>35</td>\n",
       "      <td>168</td>\n",
       "      <td>43.1</td>\n",
       "      <td>2.288</td>\n",
       "      <td>33</td>\n",
       "      <td>1</td>\n",
       "    </tr>\n",
       "  </tbody>\n",
       "</table>\n",
       "</div>"
      ],
      "text/plain": [
       "   Pregnancies  Glucose  BloodPressure  SkinThickness  Insulin   BMI  \\\n",
       "0            6      148             72             35        0  33.6   \n",
       "1            1       85             66             29        0  26.6   \n",
       "2            8      183             64              0        0  23.3   \n",
       "3            1       89             66             23       94  28.1   \n",
       "4            0      137             40             35      168  43.1   \n",
       "\n",
       "   DiabetesPedigreeFunction  Age  Outcome  \n",
       "0                     0.627   50        1  \n",
       "1                     0.351   31        0  \n",
       "2                     0.672   32        1  \n",
       "3                     0.167   21        0  \n",
       "4                     2.288   33        1  "
      ]
     },
     "execution_count": 1,
     "metadata": {},
     "output_type": "execute_result"
    }
   ],
   "source": [
    "import matplotlib\n",
    "matplotlib.use(\"TkAgg\")\n",
    "import pandas as pd\n",
    "from matplotlib import pyplot as plt    \n",
    "import seaborn as sns\n",
    "import warnings\n",
    "warnings.filterwarnings(\"ignore\")\n",
    "\n",
    "df = pd.read_csv('diabetes.csv')\n",
    "\n",
    "# look at the first 5 rows of the dataset\n",
    "df.head()"
   ]
  },
  {
   "cell_type": "code",
   "execution_count": 2,
   "id": "efe073fb",
   "metadata": {},
   "outputs": [],
   "source": [
    "import numpy as np\n",
    "df['Glucose'] = df['Glucose'].replace(0, np.nan)\n",
    "df['BloodPressure'] = df['BloodPressure'].replace(0, np.nan)\n",
    "df['SkinThickness'] = df['SkinThickness'].replace(0, np.nan)\n",
    "df['Insulin'] = df['Insulin'].replace(0, np.nan)\n",
    "df['BMI'] = df['BMI'].replace(0, np.nan)"
   ]
  },
  {
   "cell_type": "code",
   "execution_count": 3,
   "id": "f1380a00",
   "metadata": {},
   "outputs": [
    {
     "name": "stdout",
     "output_type": "stream",
     "text": [
      "Number of rows with 0 values for each variable\n",
      "Pregnancies: 111\n",
      "Glucose: 0\n",
      "BloodPressure: 0\n",
      "SkinThickness: 0\n",
      "Insulin: 0\n",
      "BMI: 0\n",
      "DiabetesPedigreeFunction: 0\n",
      "Age: 0\n",
      "Outcome: 500\n"
     ]
    }
   ],
   "source": [
    "print(\"Number of rows with 0 values for each variable\")\n",
    "for col in df.columns:    \n",
    "    missing_rows = df.loc[df[col]==0].shape[0]    \n",
    "    print(col + \": \" + str(missing_rows))"
   ]
  },
  {
   "cell_type": "code",
   "execution_count": 4,
   "id": "fb1dcc61",
   "metadata": {},
   "outputs": [],
   "source": [
    "df['Glucose'] = df['Glucose'].fillna(df['Glucose'].mean())\n",
    "df['BloodPressure'] = df['BloodPressure'].fillna(df['BloodPressure'].mean())\n",
    "df['SkinThickness'] = df['SkinThickness'].fillna(df['SkinThickness'].mean())\n",
    "df['Insulin'] = df['Insulin'].fillna(df['Insulin'].mean())\n",
    "df['BMI'] = df['BMI'].fillna(df['BMI'].mean())"
   ]
  },
  {
   "cell_type": "code",
   "execution_count": null,
   "id": "24e63cdc",
   "metadata": {},
   "outputs": [],
   "source": [
    "from sklearn import preprocessing\n",
    "df_scaled = preprocessing.scale(df)\n",
    "df_scaled = pd.DataFrame(df_scaled, columns=df.columns)\n",
    "df_scaled['Outcome'] = df['Outcome']\n",
    "df = df_scaled\n",
    "print(df.describe().loc[['mean', 'std','max'],].round(2).abs())"
   ]
  },
  {
   "cell_type": "code",
   "execution_count": null,
   "id": "e74e9850",
   "metadata": {},
   "outputs": [],
   "source": [
    "from sklearn.model_selection import train_test_split\n",
    "X = df.loc[:, df.columns != 'Outcome']\n",
    "y = df.loc[:, 'Outcome']\n",
    "\n",
    "# split the data into training and testing\n",
    "X_train, X_test, y_train, y_test = train_test_split(X, y, test_size = 0.2, random_state = 1)"
   ]
  },
  {
   "cell_type": "code",
   "execution_count": null,
   "id": "62c4a396",
   "metadata": {},
   "outputs": [],
   "source": [
    "# !pip install keras"
   ]
  },
  {
   "cell_type": "code",
   "execution_count": null,
   "id": "44ffa51d",
   "metadata": {},
   "outputs": [],
   "source": [
    "from keras.layers import Dense\n",
    "from keras.models import Sequential\n",
    "# Build neural network in Keras\n",
    "model = Sequential()\n",
    "model.add(Dense(32, activation='relu', input_dim=8))\n",
    "model.add(Dense(16, activation='relu'))\n",
    "model.add(Dense(1, activation='sigmoid'))\n",
    "model.compile(optimizer='adam', loss='binary_crossentropy', metrics=['accuracy'])\n",
    "model.fit(X_train, y_train, epochs=200, verbose=False)"
   ]
  },
  {
   "cell_type": "code",
   "execution_count": null,
   "id": "f05eefd0",
   "metadata": {},
   "outputs": [],
   "source": [
    "# Results - Accuracy\n",
    "scores = model.evaluate(X_train, y_train, verbose=False)\n",
    "print(\"Training Accuracy: %.2f%%\\n\" % (scores[1]*100))\n",
    "scores = model.evaluate(X_test, y_test, verbose=False)\n",
    "print(\"Testing Accuracy: %.2f%%\\n\" % (scores[1]*100))"
   ]
  },
  {
   "cell_type": "code",
   "execution_count": null,
   "id": "2464a70b",
   "metadata": {},
   "outputs": [],
   "source": [
    "from sklearn.metrics import confusion_matrix\n",
    "import seaborn as sns\n",
    "\n",
    "y_test_pred = model.predict_classes(X_test)\n",
    "c_matrix = confusion_matrix(y_test, y_test_pred)\n",
    "ax = sns.heatmap(c_matrix, annot=True,                  \n",
    "                 xticklabels=['No Diabetes','Diabetes'],                \n",
    "                 yticklabels=['No Diabetes','Diabetes'],                  \n",
    "                 cbar=False, cmap='Blues')\n",
    "ax.set_xlabel(\"Prediction\")\n",
    "ax.set_ylabel(\"Actual\")"
   ]
  },
  {
   "cell_type": "markdown",
   "id": "8d929a25",
   "metadata": {},
   "source": [
    "# ANN Regression"
   ]
  },
  {
   "cell_type": "code",
   "execution_count": null,
   "id": "154903bb",
   "metadata": {},
   "outputs": [],
   "source": [
    "# Load the libraries\n",
    "import pandas as pd\n",
    "from keras.models import Sequential\n",
    "from keras.layers import Dense\n",
    "from keras.wrappers.scikit_learn import KerasRegressor\n",
    "from sklearn.model_selection import cross_val_score\n",
    "from sklearn.model_selection import KFold\n",
    "from sklearn.preprocessing import StandardScaler\n",
    "from sklearn.pipeline import Pipeline"
   ]
  },
  {
   "cell_type": "markdown",
   "id": "231926d9",
   "metadata": {},
   "source": [
    "The dataset describes 13 numerical properties of houses in Boston suburbs and is concerned with modeling the price of houses in those suburbs in thousands of dollars. As such, this is a regression predictive modeling problem. Input attributes include things like crime rate, proportion of nonretail business acres, chemical concentrations and more.\n",
    "\n",
    "This is a well-studied problem in machine learning. It is convenient to work with because all of the input and output attributes are numerical and there are 506 instances to work with.\n",
    "\n",
    "Reasonable performance for models evaluated using Mean Squared Error (MSE) are around 20 in squared thousands of dollars (or $4,500 if you take the square root). This is a nice target to aim for with our neural network model."
   ]
  },
  {
   "cell_type": "code",
   "execution_count": null,
   "id": "adc77af8",
   "metadata": {},
   "outputs": [],
   "source": [
    "# load dataset\n",
    "dataframe = pd.read_csv(\"housing.csv\", delim_whitespace = True, header = None)\n",
    "df = dataframe.values\n",
    "\n",
    "# split into input (X) and output (Y) variables\n",
    "X = df[:,0:13]\n",
    "y = df[:,13]"
   ]
  },
  {
   "cell_type": "code",
   "execution_count": null,
   "id": "d6a9cd9b",
   "metadata": {},
   "outputs": [],
   "source": [
    "# define base model\n",
    "def baseline_model():\n",
    "    # create model\n",
    "    model = Sequential()\n",
    "    model.add(Dense(13, input_dim=13, kernel_initializer='normal', activation='relu'))\n",
    "    model.add(Dense(1, kernel_initializer='normal'))\n",
    "    # Compile model\n",
    "    model.compile(loss='mean_squared_error', optimizer='adam')\n",
    "    return model"
   ]
  },
  {
   "cell_type": "code",
   "execution_count": null,
   "id": "e0d61635",
   "metadata": {},
   "outputs": [],
   "source": [
    "# define wider model\n",
    "def wider_model():\n",
    "    # create model\n",
    "    # `Sequential` groups a linear stack of layers into a `tf.keras.Model`.\n",
    "    model = Sequential()\n",
    "    # Adds a layer instance on top of the layer stack. # Create a `Sequential` model and add a Dense layer as the first layer.\n",
    "    model.add(Dense(20, input_dim = 13, kernel_initializer = 'normal', activation = 'relu'))\n",
    "    model.add(Dense(1, kernel_initializer = 'normal'))\n",
    "    \n",
    "    # Compile model\n",
    "    # The efficient ADAM optimization algorithm is used and a mean squared error loss function is optimized. \n",
    "    # This will be the same metric that we will use to evaluate the performance of the model.\n",
    "    model.compile(loss = 'mean_squared_error', optimizer = 'adam')\n",
    "    return model"
   ]
  },
  {
   "cell_type": "code",
   "execution_count": null,
   "id": "c60b0379",
   "metadata": {},
   "outputs": [],
   "source": [
    "# Evaluate Model Kfold Cross Validation\n",
    "estimator = KerasRegressor(build_fn = baseline_model, epochs = 100, batch_size = 5, verbose = 0)\n",
    "kfold = KFold(n_splits = 10)\n",
    "results = cross_val_score(estimator, X, y, cv = kfold)\n",
    "print(\"Results: %.2f (%.2f) MSE\" % (results.mean(), results.std()))"
   ]
  },
  {
   "cell_type": "code",
   "execution_count": null,
   "id": "8946f225",
   "metadata": {},
   "outputs": [],
   "source": [
    "# Evaluate model with standardized dataset\n",
    "estimators = []\n",
    "estimators.append(('standardize', StandardScaler()))\n",
    "estimators.append(('mlp', KerasRegressor(build_fn = wider_model, epochs = 100, \n",
    "                                         batch_size = 5, verbose = 0)))\n",
    "# The purpose of the pipeline is to assemble several steps that can be cross-validated together while setting different parameters.\n",
    "pipeline = Pipeline(estimators)\n",
    "kfold = KFold(n_splits = 10)\n",
    "results = cross_val_score(pipeline, X, y, cv = kfold)\n",
    "print(\"Wider: %.2f (%.2f) MSE\" % (results.mean(), results.std()))"
   ]
  },
  {
   "cell_type": "markdown",
   "id": "6fc25a2e",
   "metadata": {},
   "source": [
    "# Task\n",
    "Apply ANN to Predict Average Daily Rates for Hotels. Data set (H1) is available on Moodle. Use the following features (independent) for ANN and target feature customer (ADR) from the given dataset.\n",
    "\n",
    "#### Independent Features\n",
    "* IsCanceled\n",
    "* Country\n",
    "* MarketSegment\n",
    "* DepositType\n",
    "* CustomerType\n",
    "* RequiredCarParkingSpaces\n",
    "* ArrivalDateWeekNumber"
   ]
  },
  {
   "cell_type": "code",
   "execution_count": null,
   "id": "f2e82341",
   "metadata": {},
   "outputs": [],
   "source": [
    "# Load the libraries\n",
    "import math\n",
    "import matplotlib.pyplot as plt\n",
    "import numpy as np\n",
    "from numpy.random import seed\n",
    "seed(1)\n",
    "import pandas as pd\n",
    "import statsmodels.api as sm\n",
    "import statsmodels.formula.api as smf\n",
    "import tensorflow\n",
    "tensorflow.random.set_seed(1)\n",
    "from tensorflow.python.keras.layers import Dense\n",
    "from tensorflow.keras.layers import Dropout\n",
    "from tensorflow.python.keras.models import Sequential\n",
    "from tensorflow.python.keras.wrappers.scikit_learn import KerasRegressor\n",
    "from sklearn.metrics import mean_absolute_error\n",
    "from sklearn.metrics import mean_squared_error\n",
    "from sklearn.model_selection import train_test_split\n",
    "from sklearn.preprocessing import MinMaxScaler"
   ]
  },
  {
   "cell_type": "code",
   "execution_count": null,
   "id": "be878a8f",
   "metadata": {},
   "outputs": [],
   "source": [
    "# Load the dataset named as 'H1.csv'\n",
    "train_df = pd.read_csv('H1.csv')\n",
    "\n",
    "# Displau the records\n",
    "a = train_df.head()\n",
    "\n",
    "# Store the training records into 'b' dataframe\n",
    "b = train_df\n",
    "\n",
    "# Sort the values of the dataframe (b)\n",
    "b.sort_values(['ArrivalDateYear','ArrivalDateWeekNumber'], ascending = True)\n",
    "\n",
    "# Display the dataframe \n",
    "b"
   ]
  },
  {
   "cell_type": "markdown",
   "id": "162bee62",
   "metadata": {},
   "source": [
    "## Reference\n",
    "* Chapter 20, Machine Learning with Python Cookbook, Chris Albon, O'Reilly Media, Inc., 2018.\n",
    "* <p>machinelearningmastery.com/regression-tutorial-keras-deep-learning-library-python</p>"
   ]
  }
 ],
 "metadata": {
  "kernelspec": {
   "display_name": "Python 3.9 GPU tensorflow",
   "language": "python",
   "name": "tensorflow"
  },
  "language_info": {
   "codemirror_mode": {
    "name": "ipython",
    "version": 3
   },
   "file_extension": ".py",
   "mimetype": "text/x-python",
   "name": "python",
   "nbconvert_exporter": "python",
   "pygments_lexer": "ipython3",
   "version": "3.9.13"
  }
 },
 "nbformat": 4,
 "nbformat_minor": 5
}
