{
  "nbformat": 4,
  "nbformat_minor": 0,
  "metadata": {
    "colab": {
      "name": "Theano.ipynb",
      "provenance": [],
      "collapsed_sections": [],
      "authorship_tag": "ABX9TyMRbjTSnSMm5qI/vMs9KCF7",
      "include_colab_link": true
    },
    "kernelspec": {
      "name": "python3",
      "display_name": "Python 3"
    },
    "language_info": {
      "name": "python"
    }
  },
  "cells": [
    {
      "cell_type": "markdown",
      "metadata": {
        "id": "view-in-github",
        "colab_type": "text"
      },
      "source": [
        "<a href=\"https://colab.research.google.com/github/nestorpereiralinares/Machine-Learning-Projects/blob/master/Theano.ipynb\" target=\"_parent\"><img src=\"https://colab.research.google.com/assets/colab-badge.svg\" alt=\"Open In Colab\"/></a>"
      ]
    },
    {
      "cell_type": "code",
      "metadata": {
        "colab": {
          "base_uri": "https://localhost:8080/"
        },
        "id": "FWk7P8rWtIAI",
        "outputId": "ee6a18a0-01ec-4101-fa6f-2a44571520e1"
      },
      "source": [
        "# It is a high-level neural networks API capable of running on top of TensorFlow, CNTK, or Theano. It can run seamlessly on both CPU and GPU. \n",
        "# Keras makes it really for ML beginners to build and design a Neural Network. \n",
        "# One of the best thing about Keras is that it allows for easy and fast prototyping.\n",
        "\n",
        "\n",
        "# Theano\n",
        "\n",
        "#  Theano is a popular python library that is used to define, evaluate and optimize mathematical expressions involving multi-dimensional arrays in an efficient manner. \n",
        "#  It is achieved by optimizing the utilization of CPU and GPU. It is extensively used for unit-testing and self-verification to detect and diagnose different types of errors. \n",
        "\n",
        "# for computing a Logistic \n",
        "# Function\n",
        "\n",
        "import theano\n",
        "import theano.tensor as T\n",
        "x = T.dmatrix('x')\n",
        "s = 1 / (1 + T.exp(-x))\n",
        "\n",
        "logistic = theano.function([x], s)\n",
        "logistic([[0, 1], [-1, -2]])\n"
      ],
      "execution_count": 1,
      "outputs": [
        {
          "output_type": "execute_result",
          "data": {
            "text/plain": [
              "array([[0.5       , 0.73105858],\n",
              "       [0.26894142, 0.11920292]])"
            ]
          },
          "metadata": {
            "tags": []
          },
          "execution_count": 1
        }
      ]
    },
    {
      "cell_type": "code",
      "metadata": {
        "colab": {
          "base_uri": "https://localhost:8080/"
        },
        "id": "Px2UkrcTu7Pl",
        "outputId": "403fec45-bf97-471c-d705-6a9bb5d4e3b3"
      },
      "source": [
        "# Example of Theano library\n",
        "import theano\n",
        "from theano import tensor\n",
        "# declare two symbolic floating-point scalars\n",
        "a = tensor.dscalar()\n",
        "b = tensor.dscalar()\n",
        "print(a,b)"
      ],
      "execution_count": 5,
      "outputs": [
        {
          "output_type": "stream",
          "text": [
            "<TensorType(float64, scalar)> <TensorType(float64, scalar)>\n"
          ],
          "name": "stdout"
        }
      ]
    },
    {
      "cell_type": "code",
      "metadata": {
        "colab": {
          "base_uri": "https://localhost:8080/"
        },
        "id": "R5nXTEXCvBi8",
        "outputId": "c290c968-4b39-4bc4-db99-0355375fba13"
      },
      "source": [
        "# create a simple symbolic expression\n",
        "c=a+b\n",
        "\n",
        "# convert the expression into a callable object that takes (a,b) and computes c\n",
        "f = theano.function([a,b], c)\n",
        "\n",
        "# bind 1.5 to 'a', 2.5 to 'b', and evaluate 'c' \n",
        "result = f(1.5, 2.5)\n",
        "print(result)"
      ],
      "execution_count": 6,
      "outputs": [
        {
          "output_type": "stream",
          "text": [
            "4.0\n"
          ],
          "name": "stdout"
        }
      ]
    }
  ]
}